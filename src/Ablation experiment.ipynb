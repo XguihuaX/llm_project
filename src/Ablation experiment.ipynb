{
 "cells": [
  {
   "cell_type": "code",
   "execution_count": null,
   "metadata": {},
   "outputs": [],
   "source": [
    "import clean\n",
    "import pandas as pd\n",
    "from tqdm import tqdm\n",
    "import ollama"
   ]
  },
  {
   "cell_type": "markdown",
   "metadata": {},
   "source": [
    "初始化数据和ollama客户端"
   ]
  },
  {
   "cell_type": "code",
   "execution_count": null,
   "metadata": {},
   "outputs": [],
   "source": [
    "original_data = clean.data()\n",
    "cleaned_data = original_data.create_save()\n",
    "client = ollama.Client()"
   ]
  },
  {
   "cell_type": "markdown",
   "metadata": {},
   "source": [
    " 设置批处理大小和实验参数"
   ]
  },
  {
   "cell_type": "code",
   "execution_count": null,
   "metadata": {},
   "outputs": [],
   "source": [
    "batch_size = 100\n",
    "limited_data = cleaned_data.head(100)  # 使用.head(100)限制数据量; 如果要处理所有数据，直接使用cleaned_data\n",
    "model_list = ['gemma:2b','llama2',  'llama_tem_0.1', 'llama_tem_0.4', 'llama_tem_0.7']  # 定义模型列表\n",
    "treatment_prompts = [\n",
    "    \"Question:What patient treatment plan described in this text?\",\n",
    "    \"Question:Identify the treatment strategy for the patient's diagnosis.\"\n",
    "]\n",
    "age_prompts = [\n",
    "    \"Question:What is the patient's age based on this text?\",\n",
    "    \"Question:What is the patient's age based on this text? Tips: If there is a specific age mentioned in the text, just state 'The patient is X years old.' If the age is not explicit but can be inferred, state the possible age range and provide a brief reasoning. If it's not possible to determine, state 'Cannot determine the patient's age.'\",\n",
    "    \"Question:What is the patient's age based on this text? tip:Please answer very concisely.example:the patient is 23 years old.\"\n",
    "]\n"
   ]
  },
  {
   "cell_type": "markdown",
   "metadata": {},
   "source": [
    "进行消融实验"
   ]
  },
  {
   "cell_type": "code",
   "execution_count": null,
   "metadata": {},
   "outputs": [],
   "source": [
    "for model_name in model_list:\n",
    "    for t_index, t_prompt in enumerate(treatment_prompts, start=1):\n",
    "        for a_index, a_prompt in enumerate(age_prompts, start=1):\n",
    "            treatment_summaries = []\n",
    "            patient_ages = []\n",
    "            for index, row in tqdm(limited_data.iterrows(), total=limited_data.shape[0]):\n",
    "                text = row['description'] + \" \" + row['transcription']\n",
    "\n",
    "                # 生成治疗计划的总结\n",
    "                treatment_response = client.generate(model='gemma:2b', prompt=f\"{t_prompt}\\n{text}\")\n",
    "                treatment_summaries.append(treatment_response['response'])\n",
    "\n",
    "                # 生成患者年龄的问题\n",
    "                age_response = client.generate(model='gemma:2b', prompt=f\"{a_prompt}\\n{text}\")\n",
    "                patient_ages.append(age_response['response'])\n",
    "            if model_name == 'gemma:2b':\n",
    "                model_name = 'gemma'\n",
    "            # 构建文件名以反映模型名称和提示词的使用，并指定保存目录\n",
    "            filename = f\"{save_directory}\\\\{model_name}_t{t_index}_a{a_index}.csv\"\n",
    "            results_df = pd.DataFrame({\n",
    "                'Treatment Plan': treatment_summaries,\n",
    "                'Patient Age': patient_ages\n",
    "            })\n",
    "            results_df.to_csv(filename, index=False)"
   ]
  }
 ],
 "metadata": {
  "language_info": {
   "name": "python"
  }
 },
 "nbformat": 4,
 "nbformat_minor": 2
}
