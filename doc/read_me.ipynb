

对于ollama，github url："https://github.com/ollama/ollama-python.git"
需要布置到本地后才可正常运行
对于消融实验中设置的不同温度参数，由于python中无法直接连接到该api，需要在命令行中设置创建新的子模型
下面举例了一个设置一个温度为0.1的llama2模型：
    echo "FROM llama2" > Modelfile
    echo "PARAMETER temperature 0.1" >>Modelfile
    ollama create llama_tem_0.1 -f Modelfile

