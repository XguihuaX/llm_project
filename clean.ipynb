{
 "cells": [
  {
   "cell_type": "markdown",
   "id": "7e9cdeae",
   "metadata": {},
   "source": [
    "## Data Handling Class Overview\n",
    "\n",
    "This Python class, named `data`, encapsulates methods for loading, cleaning, and saving data, specifically designed to handle text data such as medical transcriptions. Here's a breakdown of its functionality:\n",
    "\n",
    "### `__init__` Method\n",
    "- The constructor `__init__` is currently empty but serves as a placeholder for potential future variables or initialization parameters.\n",
    "\n",
    "### `load_data` Method\n",
    "- `load_data(url)`: Loads data from a given URL, which is expected to be a CSV file. It tries to read the CSV file into a pandas DataFrame. If an error occurs during loading (e.g., file not found or invalid format), it catches the exception, prints an error message, and returns `None`.\n",
    "\n",
    "### `clean_data` Method\n",
    "- `clean_data(df)`: Cleans the data in the DataFrame by replacing newline and carriage return characters with a space, and then converting all text to lowercase. This method ensures that the text data is uniform for further analysis.\n",
    "\n",
    "### `clean_data2` Method\n",
    "- `clean_data2(df)`: Applies the `clean_data` method to specific columns of the DataFrame, typically 'description' and 'transcription' columns. It ensures that these text fields are cleaned and standardized.\n",
    "\n",
    "### `save_data` Method\n",
    "- `save_data(clean_df, url)`: Saves the cleaned DataFrame to a CSV file. The file is saved in the same directory as the original with a new name `mtsamples_cleaned.csv`. This method demonstrates how to programmatically generate file paths and save files.\n",
    "\n",
    "### `create_save` Method\n",
    "- `create_save()`: Orchestrates the process of loading data from a hard-coded file path, cleaning the data using `clean_data2`, and then saving the cleaned data back to the disk. This method showcases how to use the class's methods in a workflow.\n",
    "\n",
    "This class provides a structured approach to handling data with methods dedicated to each step of the process, from loading to cleaning and saving, making it easier to manage and maintain the data handling logic."
   ]
  },
  {
   "cell_type": "code",
   "execution_count": null,
   "id": "fea561d0",
   "metadata": {},
   "outputs": [],
   "source": [
    "import pandas as pd"
   ]
  },
  {
   "cell_type": "code",
   "execution_count": null,
   "id": "cacf7711",
   "metadata": {
    "lines_to_next_cell": 2
   },
   "outputs": [],
   "source": [
    "class data:\n",
    "    def __init__(self):\n",
    "        pass\n",
    "\n",
    "    def load_data(self, url):\n",
    "        try:\n",
    "            df = pd.read_csv(url)\n",
    "            return df\n",
    "        except Exception as e:\n",
    "            print(f\"load data failed:{e}\")\n",
    "            return None\n",
    "\n",
    "    def clean_data(self,df):\n",
    "        df = df.replace('\\n','').replace('\\r',' ')\n",
    "        #df =''.join(df.split())\n",
    "        return df.lower()\n",
    "\n",
    "    def clean_data2(self,df):\n",
    "        for column in ['description','transcription']:\n",
    "            df[column] = df[column].astype(str).apply(self.clean_data)\n",
    "        return df\n",
    "\n",
    "    def save_data(self,clean_df,url,):\n",
    "        new_file_name = 'mtsamples_cleaned.csv'\n",
    "        new_file_path = url.rsplit('\\\\', 1)[0] + '\\\\' + new_file_name\n",
    "        clean_df.to_csv(new_file_path, index=False)\n",
    "\n",
    "    def create_save(self):\n",
    "        file_path = r'C:\\Users\\Administrator\\Desktop\\st\\mtsamples.csv'\n",
    "        text = self.load_data(file_path)\n",
    "        clean_text = self.clean_data2(text)\n",
    "        #self.save_data(clean_text, file_path)\n",
    "        return clean_text"
   ]
  }
 ],
 "metadata": {
  "jupytext": {
   "cell_metadata_filter": "-all",
   "main_language": "python",
   "notebook_metadata_filter": "-all"
  },
  "language_info": {
   "name": "python"
  }
 },
 "nbformat": 4,
 "nbformat_minor": 5
}
